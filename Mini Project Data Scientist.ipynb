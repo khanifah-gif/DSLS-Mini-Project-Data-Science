{
 "cells": [
  {
   "cell_type": "markdown",
   "id": "0a0a386b",
   "metadata": {},
   "source": [
    "# Klasifikasi Level Kemacetan Lalu Lintas Kota Bekasi"
   ]
  },
  {
   "cell_type": "markdown",
   "id": "92b9a8d9",
   "metadata": {},
   "source": [
    "# Latar Belakang\n",
    "\n",
    "Kepadatan lalu lintas yang tinggi dapat menyebabkan kemacetan dan menimbulkan dampak negatif seperti peningkatan waktu tempuh, peningkatan polusi udara, dan lain sebagainya, tak terkecuali di Kota Bekasi yang merupakan kawasan industri sehingga kepadatan lalu lintas terus meningkat. Dalam upaya mengatasi permasalahan tersebut, pemerintah Kota Bekasi perlu mengembangkan sistem klasifikasi level kepadatan lalu lintas dengan menggunakan teknologi yang ada. Sistem ini dapat membantu pengguna jalan dalam menentukan rute perjalanan yang lebih efisien dan mengurangi kemacetan lalu lintas di jalan-jalan utama Kota Bekasi.\n",
    "\n",
    "Sistem klasifikasi level kepadatan lalu lintas Kota Bekasi dibuat menggunakan data user generated data program Waze for Cities. Data-data tersebut diolah dengan menggunakan teknik analisis data dan machine learning sehingga dapat menghasilkan informasi mengenai tingkat kepadatan lalu lintas di setiap wilayah Kota Bekasi. Dengan adanya sistem ini, diharapkan dapat membantu meningkatkan kualitas hidup masyarakat Kota Bekasi dan mengurangi dampak negatif yang diakibatkan oleh kepadatan lalu lintas yang tinggi."
   ]
  },
  {
   "cell_type": "code",
   "execution_count": 1,
   "id": "befcb261",
   "metadata": {},
   "outputs": [],
   "source": [
    "import pandas as pd"
   ]
  },
  {
   "cell_type": "code",
   "execution_count": 2,
   "id": "4cfd4ac5",
   "metadata": {},
   "outputs": [],
   "source": [
    "#import data\n",
    "data = pd.read_csv('aggregate_median_jams_Kota Bekasi.csv')"
   ]
  },
  {
   "cell_type": "code",
   "execution_count": 3,
   "id": "64b6bf00",
   "metadata": {},
   "outputs": [
    {
     "data": {
      "text/html": [
       "<div>\n",
       "<style scoped>\n",
       "    .dataframe tbody tr th:only-of-type {\n",
       "        vertical-align: middle;\n",
       "    }\n",
       "\n",
       "    .dataframe tbody tr th {\n",
       "        vertical-align: top;\n",
       "    }\n",
       "\n",
       "    .dataframe thead th {\n",
       "        text-align: right;\n",
       "    }\n",
       "</style>\n",
       "<table border=\"1\" class=\"dataframe\">\n",
       "  <thead>\n",
       "    <tr style=\"text-align: right;\">\n",
       "      <th></th>\n",
       "      <th>Unnamed: 0.1</th>\n",
       "      <th>Unnamed: 0</th>\n",
       "      <th>time</th>\n",
       "      <th>kemendagri_kabupaten_kode</th>\n",
       "      <th>kemendagri_kabupaten_nama</th>\n",
       "      <th>street</th>\n",
       "      <th>level</th>\n",
       "      <th>median_length</th>\n",
       "      <th>median_delay</th>\n",
       "      <th>median_speed_kmh</th>\n",
       "      <th>total_records</th>\n",
       "      <th>id</th>\n",
       "      <th>date</th>\n",
       "      <th>median_level</th>\n",
       "      <th>geometry</th>\n",
       "    </tr>\n",
       "  </thead>\n",
       "  <tbody>\n",
       "    <tr>\n",
       "      <th>0</th>\n",
       "      <td>0</td>\n",
       "      <td>0.0</td>\n",
       "      <td>2022-07-06 00:00:00.000</td>\n",
       "      <td>32.75</td>\n",
       "      <td>KOTA BEKASI</td>\n",
       "      <td>Arah Tol Lingkar Dalam/Cawang/Jakarta</td>\n",
       "      <td>4</td>\n",
       "      <td>585.0</td>\n",
       "      <td>176.0</td>\n",
       "      <td>10.260000</td>\n",
       "      <td>11</td>\n",
       "      <td>33478521</td>\n",
       "      <td>2022-07-06</td>\n",
       "      <td>4.0</td>\n",
       "      <td>MULTILINESTRING ((106.964686 -6.254475, 106.96...</td>\n",
       "    </tr>\n",
       "    <tr>\n",
       "      <th>1</th>\n",
       "      <td>1</td>\n",
       "      <td>1.0</td>\n",
       "      <td>2022-07-06 00:00:00.000</td>\n",
       "      <td>32.75</td>\n",
       "      <td>KOTA BEKASI</td>\n",
       "      <td>Trans Yogi</td>\n",
       "      <td>2</td>\n",
       "      <td>1809.0</td>\n",
       "      <td>78.0</td>\n",
       "      <td>27.080000</td>\n",
       "      <td>8</td>\n",
       "      <td>33478540</td>\n",
       "      <td>2022-07-06</td>\n",
       "      <td>2.0</td>\n",
       "      <td>MULTILINESTRING ((106.923993 -6.381096, 106.92...</td>\n",
       "    </tr>\n",
       "    <tr>\n",
       "      <th>2</th>\n",
       "      <td>2</td>\n",
       "      <td>2.0</td>\n",
       "      <td>2022-07-06 00:00:00.000</td>\n",
       "      <td>32.75</td>\n",
       "      <td>KOTA BEKASI</td>\n",
       "      <td>Tol Lingkar Luar (Cikunir-TMII)</td>\n",
       "      <td>3</td>\n",
       "      <td>910.0</td>\n",
       "      <td>198.0</td>\n",
       "      <td>13.230000</td>\n",
       "      <td>5</td>\n",
       "      <td>33478539</td>\n",
       "      <td>2022-07-06</td>\n",
       "      <td>3.0</td>\n",
       "      <td>MULTILINESTRING ((106.959264 -6.284605, 106.95...</td>\n",
       "    </tr>\n",
       "    <tr>\n",
       "      <th>3</th>\n",
       "      <td>3</td>\n",
       "      <td>3.0</td>\n",
       "      <td>2022-07-06 00:00:00.000</td>\n",
       "      <td>32.75</td>\n",
       "      <td>KOTA BEKASI</td>\n",
       "      <td>Tol Lingkar Luar (Cikunir-TMII)</td>\n",
       "      <td>1</td>\n",
       "      <td>3459.0</td>\n",
       "      <td>99.5</td>\n",
       "      <td>47.114998</td>\n",
       "      <td>14</td>\n",
       "      <td>33478537</td>\n",
       "      <td>2022-07-06</td>\n",
       "      <td>1.0</td>\n",
       "      <td>MULTILINESTRING ((106.958044 -6.261638, 106.95...</td>\n",
       "    </tr>\n",
       "    <tr>\n",
       "      <th>4</th>\n",
       "      <td>4</td>\n",
       "      <td>4.0</td>\n",
       "      <td>2022-07-06 00:00:00.000</td>\n",
       "      <td>32.75</td>\n",
       "      <td>KOTA BEKASI</td>\n",
       "      <td>Tol Cikampek (Cikunir-Cikarang)</td>\n",
       "      <td>2</td>\n",
       "      <td>994.0</td>\n",
       "      <td>108.0</td>\n",
       "      <td>21.400000</td>\n",
       "      <td>25</td>\n",
       "      <td>33478534</td>\n",
       "      <td>2022-07-06</td>\n",
       "      <td>2.0</td>\n",
       "      <td>MULTILINESTRING ((106.968834 -6.252266, 106.96...</td>\n",
       "    </tr>\n",
       "  </tbody>\n",
       "</table>\n",
       "</div>"
      ],
      "text/plain": [
       "   Unnamed: 0.1  Unnamed: 0                     time  \\\n",
       "0             0         0.0  2022-07-06 00:00:00.000   \n",
       "1             1         1.0  2022-07-06 00:00:00.000   \n",
       "2             2         2.0  2022-07-06 00:00:00.000   \n",
       "3             3         3.0  2022-07-06 00:00:00.000   \n",
       "4             4         4.0  2022-07-06 00:00:00.000   \n",
       "\n",
       "   kemendagri_kabupaten_kode kemendagri_kabupaten_nama  \\\n",
       "0                      32.75               KOTA BEKASI   \n",
       "1                      32.75               KOTA BEKASI   \n",
       "2                      32.75               KOTA BEKASI   \n",
       "3                      32.75               KOTA BEKASI   \n",
       "4                      32.75               KOTA BEKASI   \n",
       "\n",
       "                                  street  level  median_length  median_delay  \\\n",
       "0  Arah Tol Lingkar Dalam/Cawang/Jakarta      4          585.0         176.0   \n",
       "1                             Trans Yogi      2         1809.0          78.0   \n",
       "2        Tol Lingkar Luar (Cikunir-TMII)      3          910.0         198.0   \n",
       "3        Tol Lingkar Luar (Cikunir-TMII)      1         3459.0          99.5   \n",
       "4        Tol Cikampek (Cikunir-Cikarang)      2          994.0         108.0   \n",
       "\n",
       "   median_speed_kmh  total_records        id        date  median_level  \\\n",
       "0         10.260000             11  33478521  2022-07-06           4.0   \n",
       "1         27.080000              8  33478540  2022-07-06           2.0   \n",
       "2         13.230000              5  33478539  2022-07-06           3.0   \n",
       "3         47.114998             14  33478537  2022-07-06           1.0   \n",
       "4         21.400000             25  33478534  2022-07-06           2.0   \n",
       "\n",
       "                                            geometry  \n",
       "0  MULTILINESTRING ((106.964686 -6.254475, 106.96...  \n",
       "1  MULTILINESTRING ((106.923993 -6.381096, 106.92...  \n",
       "2  MULTILINESTRING ((106.959264 -6.284605, 106.95...  \n",
       "3  MULTILINESTRING ((106.958044 -6.261638, 106.95...  \n",
       "4  MULTILINESTRING ((106.968834 -6.252266, 106.96...  "
      ]
     },
     "execution_count": 3,
     "metadata": {},
     "output_type": "execute_result"
    }
   ],
   "source": [
    "data.head()"
   ]
  },
  {
   "cell_type": "markdown",
   "id": "b7faa351",
   "metadata": {},
   "source": [
    "# Data Understanding\n",
    "\n",
    "Dataset yang digunakan pada project ini adalah crowdsourced/user generated data program Waze for Cities dari Waze. Tabel agregat tersebut memiliki rentang waktu 6 Juli 2022 hingga 6 September 2022.\n",
    "\n",
    "1. Time : time (every hour)\n",
    "\n",
    "2. kemendagri_kabupaten_kode : Kemendagri code of cities\n",
    "\n",
    "3. kemendagri_kabupaten_nama : Kemendagri name of cities\n",
    "\n",
    "4. Street : street name\n",
    "\n",
    "5. Level : traffic congestion level\n",
    "\n",
    "6. Median_length : jam length in meters\n",
    "\n",
    "7. Median_delay : delay of jam (in seconds) compared to free flow speed (in case of block, -1)\n",
    "\n",
    "8. Median_speed_kmh : current median speed on jammed segments in km/h\n",
    "\n",
    "9. Total_records :total data recorded in a given time\n",
    "\n",
    "10. Id : Row ID\n",
    "\n",
    "11. Date : Date\n",
    "\n",
    "12. Geometry : geometry data type (spatial data)"
   ]
  },
  {
   "cell_type": "code",
   "execution_count": 4,
   "id": "9c4ef0d1",
   "metadata": {},
   "outputs": [
    {
     "data": {
      "text/plain": [
       "(240261, 15)"
      ]
     },
     "execution_count": 4,
     "metadata": {},
     "output_type": "execute_result"
    }
   ],
   "source": [
    "data.shape"
   ]
  },
  {
   "cell_type": "code",
   "execution_count": 5,
   "id": "b9a6661a",
   "metadata": {},
   "outputs": [
    {
     "data": {
      "text/html": [
       "<div>\n",
       "<style scoped>\n",
       "    .dataframe tbody tr th:only-of-type {\n",
       "        vertical-align: middle;\n",
       "    }\n",
       "\n",
       "    .dataframe tbody tr th {\n",
       "        vertical-align: top;\n",
       "    }\n",
       "\n",
       "    .dataframe thead th {\n",
       "        text-align: right;\n",
       "    }\n",
       "</style>\n",
       "<table border=\"1\" class=\"dataframe\">\n",
       "  <thead>\n",
       "    <tr style=\"text-align: right;\">\n",
       "      <th></th>\n",
       "      <th>Unnamed: 0.1</th>\n",
       "      <th>Unnamed: 0</th>\n",
       "      <th>kemendagri_kabupaten_kode</th>\n",
       "      <th>level</th>\n",
       "      <th>median_length</th>\n",
       "      <th>median_delay</th>\n",
       "      <th>median_speed_kmh</th>\n",
       "      <th>total_records</th>\n",
       "      <th>id</th>\n",
       "      <th>median_level</th>\n",
       "    </tr>\n",
       "  </thead>\n",
       "  <tbody>\n",
       "    <tr>\n",
       "      <th>count</th>\n",
       "      <td>240261.000000</td>\n",
       "      <td>127132.000000</td>\n",
       "      <td>240261.00</td>\n",
       "      <td>240261.000000</td>\n",
       "      <td>240261.000000</td>\n",
       "      <td>240261.000000</td>\n",
       "      <td>240261.000000</td>\n",
       "      <td>240261.000000</td>\n",
       "      <td>2.402610e+05</td>\n",
       "      <td>240261.000000</td>\n",
       "    </tr>\n",
       "    <tr>\n",
       "      <th>mean</th>\n",
       "      <td>40292.785999</td>\n",
       "      <td>35081.994706</td>\n",
       "      <td>32.75</td>\n",
       "      <td>2.513783</td>\n",
       "      <td>740.150882</td>\n",
       "      <td>139.408841</td>\n",
       "      <td>12.101552</td>\n",
       "      <td>18.792097</td>\n",
       "      <td>3.537875e+07</td>\n",
       "      <td>2.513783</td>\n",
       "    </tr>\n",
       "    <tr>\n",
       "      <th>std</th>\n",
       "      <td>36892.787019</td>\n",
       "      <td>23142.448534</td>\n",
       "      <td>0.00</td>\n",
       "      <td>1.028050</td>\n",
       "      <td>592.275226</td>\n",
       "      <td>124.047799</td>\n",
       "      <td>7.331238</td>\n",
       "      <td>29.136895</td>\n",
       "      <td>1.096479e+06</td>\n",
       "      <td>1.028050</td>\n",
       "    </tr>\n",
       "    <tr>\n",
       "      <th>min</th>\n",
       "      <td>0.000000</td>\n",
       "      <td>0.000000</td>\n",
       "      <td>32.75</td>\n",
       "      <td>1.000000</td>\n",
       "      <td>11.000000</td>\n",
       "      <td>-1.000000</td>\n",
       "      <td>0.000000</td>\n",
       "      <td>1.000000</td>\n",
       "      <td>3.347852e+07</td>\n",
       "      <td>1.000000</td>\n",
       "    </tr>\n",
       "    <tr>\n",
       "      <th>25%</th>\n",
       "      <td>11262.000000</td>\n",
       "      <td>15891.000000</td>\n",
       "      <td>32.75</td>\n",
       "      <td>2.000000</td>\n",
       "      <td>377.000000</td>\n",
       "      <td>75.000000</td>\n",
       "      <td>6.500000</td>\n",
       "      <td>4.000000</td>\n",
       "      <td>3.444555e+07</td>\n",
       "      <td>2.000000</td>\n",
       "    </tr>\n",
       "    <tr>\n",
       "      <th>50%</th>\n",
       "      <td>25182.000000</td>\n",
       "      <td>31782.500000</td>\n",
       "      <td>32.75</td>\n",
       "      <td>2.000000</td>\n",
       "      <td>621.000000</td>\n",
       "      <td>99.000000</td>\n",
       "      <td>11.160000</td>\n",
       "      <td>10.000000</td>\n",
       "      <td>3.534292e+07</td>\n",
       "      <td>2.000000</td>\n",
       "    </tr>\n",
       "    <tr>\n",
       "      <th>75%</th>\n",
       "      <td>67066.000000</td>\n",
       "      <td>52263.250000</td>\n",
       "      <td>32.75</td>\n",
       "      <td>3.000000</td>\n",
       "      <td>974.000000</td>\n",
       "      <td>154.000000</td>\n",
       "      <td>16.610000</td>\n",
       "      <td>22.000000</td>\n",
       "      <td>3.632196e+07</td>\n",
       "      <td>3.000000</td>\n",
       "    </tr>\n",
       "    <tr>\n",
       "      <th>max</th>\n",
       "      <td>127131.000000</td>\n",
       "      <td>84046.000000</td>\n",
       "      <td>32.75</td>\n",
       "      <td>5.000000</td>\n",
       "      <td>15551.000000</td>\n",
       "      <td>3777.500000</td>\n",
       "      <td>61.180000</td>\n",
       "      <td>900.000000</td>\n",
       "      <td>3.728765e+07</td>\n",
       "      <td>5.000000</td>\n",
       "    </tr>\n",
       "  </tbody>\n",
       "</table>\n",
       "</div>"
      ],
      "text/plain": [
       "        Unnamed: 0.1     Unnamed: 0  kemendagri_kabupaten_kode          level  \\\n",
       "count  240261.000000  127132.000000                  240261.00  240261.000000   \n",
       "mean    40292.785999   35081.994706                      32.75       2.513783   \n",
       "std     36892.787019   23142.448534                       0.00       1.028050   \n",
       "min         0.000000       0.000000                      32.75       1.000000   \n",
       "25%     11262.000000   15891.000000                      32.75       2.000000   \n",
       "50%     25182.000000   31782.500000                      32.75       2.000000   \n",
       "75%     67066.000000   52263.250000                      32.75       3.000000   \n",
       "max    127131.000000   84046.000000                      32.75       5.000000   \n",
       "\n",
       "       median_length   median_delay  median_speed_kmh  total_records  \\\n",
       "count  240261.000000  240261.000000     240261.000000  240261.000000   \n",
       "mean      740.150882     139.408841         12.101552      18.792097   \n",
       "std       592.275226     124.047799          7.331238      29.136895   \n",
       "min        11.000000      -1.000000          0.000000       1.000000   \n",
       "25%       377.000000      75.000000          6.500000       4.000000   \n",
       "50%       621.000000      99.000000         11.160000      10.000000   \n",
       "75%       974.000000     154.000000         16.610000      22.000000   \n",
       "max     15551.000000    3777.500000         61.180000     900.000000   \n",
       "\n",
       "                 id   median_level  \n",
       "count  2.402610e+05  240261.000000  \n",
       "mean   3.537875e+07       2.513783  \n",
       "std    1.096479e+06       1.028050  \n",
       "min    3.347852e+07       1.000000  \n",
       "25%    3.444555e+07       2.000000  \n",
       "50%    3.534292e+07       2.000000  \n",
       "75%    3.632196e+07       3.000000  \n",
       "max    3.728765e+07       5.000000  "
      ]
     },
     "execution_count": 5,
     "metadata": {},
     "output_type": "execute_result"
    }
   ],
   "source": [
    "data.describe()"
   ]
  },
  {
   "cell_type": "code",
   "execution_count": 6,
   "id": "2906d2c7",
   "metadata": {},
   "outputs": [
    {
     "data": {
      "text/plain": [
       "Unnamed: 0.1                   int64\n",
       "Unnamed: 0                   float64\n",
       "time                          object\n",
       "kemendagri_kabupaten_kode    float64\n",
       "kemendagri_kabupaten_nama     object\n",
       "street                        object\n",
       "level                          int64\n",
       "median_length                float64\n",
       "median_delay                 float64\n",
       "median_speed_kmh             float64\n",
       "total_records                  int64\n",
       "id                             int64\n",
       "date                          object\n",
       "median_level                 float64\n",
       "geometry                      object\n",
       "dtype: object"
      ]
     },
     "execution_count": 6,
     "metadata": {},
     "output_type": "execute_result"
    }
   ],
   "source": [
    "data.dtypes"
   ]
  },
  {
   "cell_type": "markdown",
   "id": "a81451fd",
   "metadata": {},
   "source": [
    "# Preprocessing Data"
   ]
  },
  {
   "cell_type": "code",
   "execution_count": 7,
   "id": "55c34b5b",
   "metadata": {},
   "outputs": [],
   "source": [
    "#Ubah tipe data menjadi datetime\n",
    "data['time'] = pd.to_datetime(data['time'], format= '%Y-%m-%d %H:%M:%S')\n",
    "data['date'] = pd.to_datetime(data['date'], format= '%Y-%m-%d')"
   ]
  },
  {
   "cell_type": "code",
   "execution_count": 8,
   "id": "2ae668fa",
   "metadata": {
    "scrolled": true
   },
   "outputs": [
    {
     "name": "stdout",
     "output_type": "stream",
     "text": [
      "<class 'pandas.core.frame.DataFrame'>\n",
      "RangeIndex: 240261 entries, 0 to 240260\n",
      "Data columns (total 15 columns):\n",
      " #   Column                     Non-Null Count   Dtype         \n",
      "---  ------                     --------------   -----         \n",
      " 0   Unnamed: 0.1               240261 non-null  int64         \n",
      " 1   Unnamed: 0                 127132 non-null  float64       \n",
      " 2   time                       240261 non-null  datetime64[ns]\n",
      " 3   kemendagri_kabupaten_kode  240261 non-null  float64       \n",
      " 4   kemendagri_kabupaten_nama  240261 non-null  object        \n",
      " 5   street                     236149 non-null  object        \n",
      " 6   level                      240261 non-null  int64         \n",
      " 7   median_length              240261 non-null  float64       \n",
      " 8   median_delay               240261 non-null  float64       \n",
      " 9   median_speed_kmh           240261 non-null  float64       \n",
      " 10  total_records              240261 non-null  int64         \n",
      " 11  id                         240261 non-null  int64         \n",
      " 12  date                       240261 non-null  datetime64[ns]\n",
      " 13  median_level               240261 non-null  float64       \n",
      " 14  geometry                   240261 non-null  object        \n",
      "dtypes: datetime64[ns](2), float64(6), int64(4), object(3)\n",
      "memory usage: 27.5+ MB\n"
     ]
    }
   ],
   "source": [
    "data.info()"
   ]
  },
  {
   "cell_type": "code",
   "execution_count": 9,
   "id": "cb7d729d",
   "metadata": {},
   "outputs": [
    {
     "data": {
      "text/html": [
       "<div>\n",
       "<style scoped>\n",
       "    .dataframe tbody tr th:only-of-type {\n",
       "        vertical-align: middle;\n",
       "    }\n",
       "\n",
       "    .dataframe tbody tr th {\n",
       "        vertical-align: top;\n",
       "    }\n",
       "\n",
       "    .dataframe thead th {\n",
       "        text-align: right;\n",
       "    }\n",
       "</style>\n",
       "<table border=\"1\" class=\"dataframe\">\n",
       "  <thead>\n",
       "    <tr style=\"text-align: right;\">\n",
       "      <th></th>\n",
       "      <th>Unnamed: 0.1</th>\n",
       "      <th>Unnamed: 0</th>\n",
       "      <th>time</th>\n",
       "      <th>kemendagri_kabupaten_kode</th>\n",
       "      <th>kemendagri_kabupaten_nama</th>\n",
       "      <th>street</th>\n",
       "      <th>level</th>\n",
       "      <th>median_length</th>\n",
       "      <th>median_delay</th>\n",
       "      <th>median_speed_kmh</th>\n",
       "      <th>total_records</th>\n",
       "      <th>id</th>\n",
       "      <th>date</th>\n",
       "      <th>median_level</th>\n",
       "      <th>geometry</th>\n",
       "      <th>DayOfWeek</th>\n",
       "      <th>Month</th>\n",
       "      <th>WeekOfYear</th>\n",
       "      <th>Hour</th>\n",
       "    </tr>\n",
       "  </thead>\n",
       "  <tbody>\n",
       "    <tr>\n",
       "      <th>0</th>\n",
       "      <td>0</td>\n",
       "      <td>0.0</td>\n",
       "      <td>2022-07-06</td>\n",
       "      <td>32.75</td>\n",
       "      <td>KOTA BEKASI</td>\n",
       "      <td>Arah Tol Lingkar Dalam/Cawang/Jakarta</td>\n",
       "      <td>4</td>\n",
       "      <td>585.0</td>\n",
       "      <td>176.0</td>\n",
       "      <td>10.260000</td>\n",
       "      <td>11</td>\n",
       "      <td>33478521</td>\n",
       "      <td>2022-07-06</td>\n",
       "      <td>4.0</td>\n",
       "      <td>MULTILINESTRING ((106.964686 -6.254475, 106.96...</td>\n",
       "      <td>2</td>\n",
       "      <td>7</td>\n",
       "      <td>27</td>\n",
       "      <td>0</td>\n",
       "    </tr>\n",
       "    <tr>\n",
       "      <th>1</th>\n",
       "      <td>1</td>\n",
       "      <td>1.0</td>\n",
       "      <td>2022-07-06</td>\n",
       "      <td>32.75</td>\n",
       "      <td>KOTA BEKASI</td>\n",
       "      <td>Trans Yogi</td>\n",
       "      <td>2</td>\n",
       "      <td>1809.0</td>\n",
       "      <td>78.0</td>\n",
       "      <td>27.080000</td>\n",
       "      <td>8</td>\n",
       "      <td>33478540</td>\n",
       "      <td>2022-07-06</td>\n",
       "      <td>2.0</td>\n",
       "      <td>MULTILINESTRING ((106.923993 -6.381096, 106.92...</td>\n",
       "      <td>2</td>\n",
       "      <td>7</td>\n",
       "      <td>27</td>\n",
       "      <td>0</td>\n",
       "    </tr>\n",
       "    <tr>\n",
       "      <th>2</th>\n",
       "      <td>2</td>\n",
       "      <td>2.0</td>\n",
       "      <td>2022-07-06</td>\n",
       "      <td>32.75</td>\n",
       "      <td>KOTA BEKASI</td>\n",
       "      <td>Tol Lingkar Luar (Cikunir-TMII)</td>\n",
       "      <td>3</td>\n",
       "      <td>910.0</td>\n",
       "      <td>198.0</td>\n",
       "      <td>13.230000</td>\n",
       "      <td>5</td>\n",
       "      <td>33478539</td>\n",
       "      <td>2022-07-06</td>\n",
       "      <td>3.0</td>\n",
       "      <td>MULTILINESTRING ((106.959264 -6.284605, 106.95...</td>\n",
       "      <td>2</td>\n",
       "      <td>7</td>\n",
       "      <td>27</td>\n",
       "      <td>0</td>\n",
       "    </tr>\n",
       "    <tr>\n",
       "      <th>3</th>\n",
       "      <td>3</td>\n",
       "      <td>3.0</td>\n",
       "      <td>2022-07-06</td>\n",
       "      <td>32.75</td>\n",
       "      <td>KOTA BEKASI</td>\n",
       "      <td>Tol Lingkar Luar (Cikunir-TMII)</td>\n",
       "      <td>1</td>\n",
       "      <td>3459.0</td>\n",
       "      <td>99.5</td>\n",
       "      <td>47.114998</td>\n",
       "      <td>14</td>\n",
       "      <td>33478537</td>\n",
       "      <td>2022-07-06</td>\n",
       "      <td>1.0</td>\n",
       "      <td>MULTILINESTRING ((106.958044 -6.261638, 106.95...</td>\n",
       "      <td>2</td>\n",
       "      <td>7</td>\n",
       "      <td>27</td>\n",
       "      <td>0</td>\n",
       "    </tr>\n",
       "    <tr>\n",
       "      <th>4</th>\n",
       "      <td>4</td>\n",
       "      <td>4.0</td>\n",
       "      <td>2022-07-06</td>\n",
       "      <td>32.75</td>\n",
       "      <td>KOTA BEKASI</td>\n",
       "      <td>Tol Cikampek (Cikunir-Cikarang)</td>\n",
       "      <td>2</td>\n",
       "      <td>994.0</td>\n",
       "      <td>108.0</td>\n",
       "      <td>21.400000</td>\n",
       "      <td>25</td>\n",
       "      <td>33478534</td>\n",
       "      <td>2022-07-06</td>\n",
       "      <td>2.0</td>\n",
       "      <td>MULTILINESTRING ((106.968834 -6.252266, 106.96...</td>\n",
       "      <td>2</td>\n",
       "      <td>7</td>\n",
       "      <td>27</td>\n",
       "      <td>0</td>\n",
       "    </tr>\n",
       "  </tbody>\n",
       "</table>\n",
       "</div>"
      ],
      "text/plain": [
       "   Unnamed: 0.1  Unnamed: 0       time  kemendagri_kabupaten_kode  \\\n",
       "0             0         0.0 2022-07-06                      32.75   \n",
       "1             1         1.0 2022-07-06                      32.75   \n",
       "2             2         2.0 2022-07-06                      32.75   \n",
       "3             3         3.0 2022-07-06                      32.75   \n",
       "4             4         4.0 2022-07-06                      32.75   \n",
       "\n",
       "  kemendagri_kabupaten_nama                                 street  level  \\\n",
       "0               KOTA BEKASI  Arah Tol Lingkar Dalam/Cawang/Jakarta      4   \n",
       "1               KOTA BEKASI                             Trans Yogi      2   \n",
       "2               KOTA BEKASI        Tol Lingkar Luar (Cikunir-TMII)      3   \n",
       "3               KOTA BEKASI        Tol Lingkar Luar (Cikunir-TMII)      1   \n",
       "4               KOTA BEKASI        Tol Cikampek (Cikunir-Cikarang)      2   \n",
       "\n",
       "   median_length  median_delay  median_speed_kmh  total_records        id  \\\n",
       "0          585.0         176.0         10.260000             11  33478521   \n",
       "1         1809.0          78.0         27.080000              8  33478540   \n",
       "2          910.0         198.0         13.230000              5  33478539   \n",
       "3         3459.0          99.5         47.114998             14  33478537   \n",
       "4          994.0         108.0         21.400000             25  33478534   \n",
       "\n",
       "        date  median_level                                           geometry  \\\n",
       "0 2022-07-06           4.0  MULTILINESTRING ((106.964686 -6.254475, 106.96...   \n",
       "1 2022-07-06           2.0  MULTILINESTRING ((106.923993 -6.381096, 106.92...   \n",
       "2 2022-07-06           3.0  MULTILINESTRING ((106.959264 -6.284605, 106.95...   \n",
       "3 2022-07-06           1.0  MULTILINESTRING ((106.958044 -6.261638, 106.95...   \n",
       "4 2022-07-06           2.0  MULTILINESTRING ((106.968834 -6.252266, 106.96...   \n",
       "\n",
       "   DayOfWeek  Month  WeekOfYear  Hour  \n",
       "0          2      7          27     0  \n",
       "1          2      7          27     0  \n",
       "2          2      7          27     0  \n",
       "3          2      7          27     0  \n",
       "4          2      7          27     0  "
      ]
     },
     "execution_count": 9,
     "metadata": {},
     "output_type": "execute_result"
    }
   ],
   "source": [
    "#ekstrak informasi dari kolom time\n",
    "\n",
    "data[\"DayOfWeek\"] = data[\"time\"].dt.weekday # Ekstrak day of week\n",
    "data[\"Month\"] = data[\"time\"].dt.month # Ekstrak month\n",
    "data[\"WeekOfYear\"] = data[\"time\"].dt.isocalendar().week # Ekstrak week of year\n",
    "data[\"Hour\"] = data[\"time\"].dt.hour\n",
    "data.head()"
   ]
  },
  {
   "cell_type": "code",
   "execution_count": 10,
   "id": "d5984f51",
   "metadata": {},
   "outputs": [
    {
     "data": {
      "text/plain": [
       "kemendagri_kabupaten_kode         1\n",
       "kemendagri_kabupaten_nama         1\n",
       "Month                             3\n",
       "level                             5\n",
       "median_level                      5\n",
       "DayOfWeek                         7\n",
       "WeekOfYear                       10\n",
       "Hour                             24\n",
       "date                             62\n",
       "total_records                   284\n",
       "street                         1275\n",
       "time                           1435\n",
       "median_delay                   2142\n",
       "median_length                  4535\n",
       "median_speed_kmh              10388\n",
       "Unnamed: 0                    84047\n",
       "Unnamed: 0.1                 127132\n",
       "geometry                     195871\n",
       "id                           240261\n",
       "dtype: int64"
      ]
     },
     "execution_count": 10,
     "metadata": {},
     "output_type": "execute_result"
    }
   ],
   "source": [
    "# Unique values for each feature\n",
    "data.nunique().sort_values()"
   ]
  },
  {
   "cell_type": "code",
   "execution_count": 11,
   "id": "8d5d093b",
   "metadata": {},
   "outputs": [
    {
     "data": {
      "text/plain": [
       "Unnamed: 0.1                      0\n",
       "Unnamed: 0                   113129\n",
       "time                              0\n",
       "kemendagri_kabupaten_kode         0\n",
       "kemendagri_kabupaten_nama         0\n",
       "street                         4112\n",
       "level                             0\n",
       "median_length                     0\n",
       "median_delay                      0\n",
       "median_speed_kmh                  0\n",
       "total_records                     0\n",
       "id                                0\n",
       "date                              0\n",
       "median_level                      0\n",
       "geometry                          0\n",
       "DayOfWeek                         0\n",
       "Month                             0\n",
       "WeekOfYear                        0\n",
       "Hour                              0\n",
       "dtype: int64"
      ]
     },
     "execution_count": 11,
     "metadata": {},
     "output_type": "execute_result"
    }
   ],
   "source": [
    "data.isnull().sum()"
   ]
  },
  {
   "cell_type": "markdown",
   "id": "fa157d5b",
   "metadata": {},
   "source": [
    "terdapat kolom dengan nilai null, yaitu kolom unamed dan kolom street. Kolom unamed sendiri sebenarnya hanya penomoran indeks dan kolom street adalah kolom nama jalan yang tidak akan dipakai sebagai feature pelatihan dan akan dihapus. Jadi, tidak ada tindakan lebih lanjut untuk handling nilai null tersebut."
   ]
  },
  {
   "cell_type": "code",
   "execution_count": 12,
   "id": "67687b73",
   "metadata": {},
   "outputs": [],
   "source": [
    "# Menghapus Beberapa kolom\n",
    "data.drop([\"kemendagri_kabupaten_kode\", \"kemendagri_kabupaten_nama\", \"street\", \"id\", \"geometry\", \"date\", \"time\"], axis = 1, inplace = True)"
   ]
  },
  {
   "cell_type": "code",
   "execution_count": 13,
   "id": "b94ae02f",
   "metadata": {},
   "outputs": [
    {
     "name": "stdout",
     "output_type": "stream",
     "text": [
      "['Unnamed: 0.1', 'Unnamed: 0', 'median_length', 'median_delay', 'median_speed_kmh', 'total_records', 'median_level', 'DayOfWeek', 'Month', 'WeekOfYear', 'Hour']\n"
     ]
    }
   ],
   "source": [
    "# Separate into target and features\n",
    "target = \"level\"\n",
    "features = [i for i in data.columns if i not in [target]] #store all features name \n",
    "print(features)"
   ]
  },
  {
   "cell_type": "code",
   "execution_count": 14,
   "id": "b0f3d222",
   "metadata": {},
   "outputs": [
    {
     "name": "stdout",
     "output_type": "stream",
     "text": [
      "The Dataset has 5 numerical & 6 categorical features.\n",
      "Numerical features are ['Unnamed: 0.1', 'Unnamed: 0', 'median_length', 'median_delay', 'median_speed_kmh', 'total_records']\n",
      "Categorical features are ['median_level', 'DayOfWeek', 'Month', 'WeekOfYear', 'Hour']\n"
     ]
    }
   ],
   "source": [
    "# Separate features into categorical and numerical\n",
    "\n",
    "categorical_features = []\n",
    "numerical_features = []\n",
    "threshold = 100 # This is just an estimation, a categorial feature is likely to have less than 100 unique values\n",
    "\n",
    "for feature in features:\n",
    "    if data[feature].nunique() <= threshold:\n",
    "        categorical_features.append(feature)\n",
    "    else:\n",
    "        numerical_features.append(feature)\n",
    "\n",
    "print(\"The Dataset has {} numerical & {} categorical features.\".format(len(categorical_features),len(numerical_features)))\n",
    "print(\"Numerical features are {}\".format(numerical_features))\n",
    "print(\"Categorical features are {}\".format(categorical_features))"
   ]
  },
  {
   "cell_type": "markdown",
   "id": "1f7580e3",
   "metadata": {},
   "source": [
    "# Exploratory Data Analysis"
   ]
  },
  {
   "cell_type": "code",
   "execution_count": 15,
   "id": "1f6a211e",
   "metadata": {},
   "outputs": [],
   "source": [
    "# Change font size for ticks\n",
    "def bigger_ticks_font_size(ax):\n",
    "    ax.tick_params(axis = \"x\", labelsize = 13)\n",
    "    ax.tick_params(axis = \"y\", labelsize = 13)\n",
    "\n",
    "# Change font size for labels\n",
    "def bigger_label_font_size(ax, xlabel_name, ylabel_name):\n",
    "    ax.set_xlabel(xlabel_name, fontsize = 16)\n",
    "    ax.set_ylabel(ylabel_name, fontsize = 16)\n",
    "\n",
    "# Create a new color palette consisted of the extracted hex codes from Set2 palette and other additional colors\n",
    "palette = [\"#fc8d62\", \"#ffd92f\", \"#e5c494\", \"#b3b3b3\", \"#66c2a5\", \"#96b9d0\", \"#8da0cb\", \"#ce94bc\", \"#eba7ac\", \"#f5ae52\"]"
   ]
  },
  {
   "cell_type": "code",
   "execution_count": 16,
   "id": "16a24d9c",
   "metadata": {},
   "outputs": [
    {
     "data": {
      "image/png": "[encoded data removed]",
      "text/plain": [
       "<Figure size 432x216 with 1 Axes>"
      ]
     },
     "metadata": {
      "needs_background": "light"
     },
     "output_type": "display_data"
    }
   ],
   "source": [
    "#plotting label level data distribution\n",
    "import matplotlib.pyplot as plt\n",
    "import seaborn as sns\n",
    "\n",
    "plt.figure(figsize=[6,3])\n",
    "ax = sns.histplot(data[\"level\"], color =\"#ffd92f\", kde = True, bins = 30)\n",
    "\n",
    "plt.title(\"Target Data Distribution\", fontsize = 20)\n",
    "bigger_ticks_font_size(ax)\n",
    "bigger_label_font_size(ax, \"level\", \"Count\")\n",
    "\n",
    "plt.show()"
   ]
  },
  {
   "cell_type": "code",
   "execution_count": 17,
   "id": "49124169",
   "metadata": {},
   "outputs": [
    {
     "data": {
      "text/plain": [
       "Text(0.5, 1.0, 'Median Length Data Distribution')"
      ]
     },
     "execution_count": 17,
     "metadata": {},
     "output_type": "execute_result"
    },
    {
     "data": {
      "image/png": "[encoded data removed]",
      "text/plain": [
       "<Figure size 432x216 with 1 Axes>"
      ]
     },
     "metadata": {
      "needs_background": "light"
     },
     "output_type": "display_data"
    }
   ],
   "source": [
    "#plotting label median length data distribution\n",
    "plt.figure(figsize=[6,3])\n",
    "ax = sns.histplot(data[\"median_length\"], color =\"#ffd92f\", kde = True, bins = 30)\n",
    "\n",
    "plt.title(\"Median Length Data Distribution\", fontsize = 20)"
   ]
  },
  {
   "cell_type": "code",
   "execution_count": 18,
   "id": "c44e42d9",
   "metadata": {},
   "outputs": [
    {
     "data": {
      "text/plain": [
       "Text(0.5, 1.0, 'Median Delay Data Distribution')"
      ]
     },
     "execution_count": 18,
     "metadata": {},
     "output_type": "execute_result"
    },
    {
     "data": {
      "image/png": "[encoded data removed]",
      "text/plain": [
       "<Figure size 432x216 with 1 Axes>"
      ]
     },
     "metadata": {
      "needs_background": "light"
     },
     "output_type": "display_data"
    }
   ],
   "source": [
    "#plotting label median delay data distribution\n",
    "plt.figure(figsize=[6,3])\n",
    "ax = sns.histplot(data[\"median_delay\"], color =\"#ffd92f\", kde = True, bins = 30)\n",
    "\n",
    "plt.title(\"Median Delay Data Distribution\", fontsize = 20)"
   ]
  },
  {
   "cell_type": "code",
   "execution_count": 19,
   "id": "9b2b8498",
   "metadata": {},
   "outputs": [
    {
     "data": {
      "text/plain": [
       "Text(0.5, 1.0, 'Median Speed Kmh Data Distribution')"
      ]
     },
     "execution_count": 19,
     "metadata": {},
     "output_type": "execute_result"
    },
    {
     "data": {
      "image/png": "[encoded data removed]",
      "text/plain": [
       "<Figure size 432x216 with 1 Axes>"
      ]
     },
     "metadata": {
      "needs_background": "light"
     },
     "output_type": "display_data"
    }
   ],
   "source": [
    "#plotting label median speed Kmh data distribution\n",
    "plt.figure(figsize=[6,3])\n",
    "ax = sns.histplot(data[\"median_speed_kmh\"], color =\"#ffd92f\", kde = True, bins = 30)\n",
    "\n",
    "plt.title(\"Median Speed Kmh Data Distribution\", fontsize = 20)"
   ]
  },
  {
   "cell_type": "code",
   "execution_count": 20,
   "id": "69d7954a",
   "metadata": {},
   "outputs": [],
   "source": [
    "# Function to plot categorical features using countplot\n",
    "def countplot_categorical_feature(col_name, title, palette, order = None):\n",
    "    ax = sns.countplot(x = data[col_name], order = order, palette = palette)\n",
    "    plt.suptitle(\"'{}' Feature Distribution\".format(title), fontsize = 20)\n",
    "    #plt.suptitle(\"Annual Sales during 2010-2012\", fontsize = 20)\n",
    "    bigger_ticks_font_size(ax)\n",
    "    bigger_label_font_size(ax, title, \"Count\")\n",
    "\n",
    "# Function to annotate frequency of each category in barplot\n",
    "def annotate_barplot (ax, data):\n",
    "    for p in ax.patches:\n",
    "        x = p.get_bbox().get_points()[:,0]\n",
    "        y = p.get_bbox().get_points()[1,1]\n",
    "        ax.annotate(\"{:.1f}%\".format(100.*y/data), (x.mean(), y), \n",
    "            ha = \"center\", va = \"bottom\", fontsize = 12) # set the alignment of the text\n",
    "\n",
    "# Set double axes, count axis is on right, frequency on left\n",
    "def set_double_axes(ax1, ax2, data, ax1_ax2_xlabel, ax1_ylabel, ax2_ylabel):\n",
    "    ax2.yaxis.tick_left()\n",
    "    ax1.yaxis.tick_right()\n",
    "\n",
    "    # Also switch the labels over\n",
    "    ax1.yaxis.set_label_position(\"right\")\n",
    "    ax2.yaxis.set_label_position(\"left\")\n",
    "\n",
    "    annotate_barplot (ax1, len(data)) #annotate barplot\n",
    "\n",
    "    # Use a LinearLocator to ensure the correct number of ticks\n",
    "    ax1.yaxis.set_major_locator(LinearLocator(11))\n",
    "\n",
    "    # Fix the frequency range to 0-100\n",
    "    ax2.set_ylim(0,100)\n",
    "    ax1.set_ylim(0,len(data))\n",
    "\n",
    "    # And use a MultipleLocator to ensure a tick spacing of 10\n",
    "    ax2.yaxis.set_major_locator(MultipleLocator(10))\n",
    "\n",
    "    # Change font size for ticks and label\n",
    "    bigger_ticks_font_size(ax1)\n",
    "    bigger_ticks_font_size(ax2)\n",
    "    bigger_label_font_size(ax1, ax1_ax2_xlabel, ax1_ylabel)\n",
    "    bigger_label_font_size(ax2, ax1_ax2_xlabel, ax2_ylabel)\n",
    "\n",
    "    # Need to turn the grid on ax2 off, otherwise the gridlines end up on top of the bars\n",
    "    ax2.grid(None)"
   ]
  },
  {
   "cell_type": "code",
   "execution_count": 21,
   "id": "481bd7cf",
   "metadata": {},
   "outputs": [
    {
     "data": {
      "image/png": "[encoded data removed]",
      "text/plain": [
       "<Figure size 1152x288 with 1 Axes>"
      ]
     },
     "metadata": {
      "needs_background": "light"
     },
     "output_type": "display_data"
    }
   ],
   "source": [
    "#plotting label jam data distribution\n",
    "plt.figure(figsize=(16,4))\n",
    "countplot_categorical_feature(\"Hour\", \"jam\", palette)"
   ]
  },
  {
   "cell_type": "markdown",
   "id": "bc916c5c",
   "metadata": {},
   "source": [
    "Record data menunjukkan jumlah kendaraan berdistribusi secara normal dimana kepadatan kendaraan akan terus meningkat seiring bertambahnya jam dan berada di titik puncak pada jam 17 atau 5 sore dan mengalami penurunan kembali kepadatannya setelah jam 5 sore."
   ]
  },
  {
   "cell_type": "code",
   "execution_count": 22,
   "id": "6f195d7b",
   "metadata": {},
   "outputs": [
    {
     "data": {
      "text/plain": [
       "<AxesSubplot:xlabel='level', ylabel='median_speed_kmh'>"
      ]
     },
     "execution_count": 22,
     "metadata": {},
     "output_type": "execute_result"
    },
    {
     "data": {
      "image/png": "[encoded data removed]",
      "text/plain": [
       "<Figure size 432x288 with 1 Axes>"
      ]
     },
     "metadata": {
      "needs_background": "light"
     },
     "output_type": "display_data"
    }
   ],
   "source": [
    "sns.scatterplot(data=data, x='level', y='median_speed_kmh')"
   ]
  },
  {
   "cell_type": "markdown",
   "id": "471a07b8",
   "metadata": {},
   "source": [
    "Hasil visualisasi menunjukkan bahwa semakin tinggi level kepadatan lalu lintasnya, maka persebaran kecepatan median pada segmen tersebut juga cenderung mengalami penurunan"
   ]
  },
  {
   "cell_type": "code",
   "execution_count": 23,
   "id": "7b27f108",
   "metadata": {
    "scrolled": true
   },
   "outputs": [
    {
     "data": {
      "text/plain": [
       "<AxesSubplot:xlabel='level', ylabel='median_length'>"
      ]
     },
     "execution_count": 23,
     "metadata": {},
     "output_type": "execute_result"
    },
    {
     "data": {
      "image/png": "[encoded data removed]",
      "text/plain": [
       "<Figure size 432x288 with 1 Axes>"
      ]
     },
     "metadata": {
      "needs_background": "light"
     },
     "output_type": "display_data"
    }
   ],
   "source": [
    "sns.scatterplot(data=data, x='level', y='median_length')"
   ]
  },
  {
   "cell_type": "markdown",
   "id": "a4641633",
   "metadata": {},
   "source": [
    "Hasil visualisasi menunjukkan bahwa semakin tinggi level kepadatan lalu lintasnya, maka persebaran median length pada segmen tersebut juga cenderung mengalami penurunan"
   ]
  },
  {
   "cell_type": "code",
   "execution_count": 24,
   "id": "577e8391",
   "metadata": {},
   "outputs": [
    {
     "data": {
      "text/plain": [
       "<AxesSubplot:xlabel='level', ylabel='median_delay'>"
      ]
     },
     "execution_count": 24,
     "metadata": {},
     "output_type": "execute_result"
    },
    {
     "data": {
      "image/png": "[encoded data removed]",
      "text/plain": [
       "<Figure size 432x288 with 1 Axes>"
      ]
     },
     "metadata": {
      "needs_background": "light"
     },
     "output_type": "display_data"
    }
   ],
   "source": [
    "sns.scatterplot(data=data, x='level', y='median_delay')"
   ]
  },
  {
   "cell_type": "markdown",
   "id": "34a68b02",
   "metadata": {},
   "source": [
    "Hasil visualisasi menunjukkan bahwa semakin tinggi level kepadatan lalu lintasnya, maka persebaran median delaynya cenderung semakin tinggi"
   ]
  },
  {
   "cell_type": "code",
   "execution_count": 25,
   "id": "c181ac40",
   "metadata": {},
   "outputs": [
    {
     "data": {
      "text/plain": [
       "<AxesSubplot:xlabel='median_length'>"
      ]
     },
     "execution_count": 25,
     "metadata": {},
     "output_type": "execute_result"
    },
    {
     "data": {
      "image/png": "[encoded data removed]",
      "text/plain": [
       "<Figure size 432x288 with 1 Axes>"
      ]
     },
     "metadata": {
      "needs_background": "light"
     },
     "output_type": "display_data"
    }
   ],
   "source": [
    "# Melihat outlier 'median_length'\n",
    "sns.boxplot(x=data['median_length'])"
   ]
  },
  {
   "cell_type": "code",
   "execution_count": 26,
   "id": "49c07d6b",
   "metadata": {},
   "outputs": [
    {
     "data": {
      "text/plain": [
       "<AxesSubplot:xlabel='median_delay'>"
      ]
     },
     "execution_count": 26,
     "metadata": {},
     "output_type": "execute_result"
    },
    {
     "data": {
      "image/png": "[encoded data removed]",
      "text/plain": [
       "<Figure size 432x288 with 1 Axes>"
      ]
     },
     "metadata": {
      "needs_background": "light"
     },
     "output_type": "display_data"
    }
   ],
   "source": [
    "# Melihat outlier 'median_delay'\n",
    "sns.boxplot(x=data['median_delay'])"
   ]
  },
  {
   "cell_type": "code",
   "execution_count": 27,
   "id": "4ca1edf5",
   "metadata": {},
   "outputs": [
    {
     "data": {
      "text/plain": [
       "<AxesSubplot:xlabel='median_speed_kmh'>"
      ]
     },
     "execution_count": 27,
     "metadata": {},
     "output_type": "execute_result"
    },
    {
     "data": {
      "image/png": "[encoded data removed]",
      "text/plain": [
       "<Figure size 432x288 with 1 Axes>"
      ]
     },
     "metadata": {
      "needs_background": "light"
     },
     "output_type": "display_data"
    }
   ],
   "source": [
    "# Melihat outlier 'median_delay'\n",
    "sns.boxplot(x=data['median_speed_kmh'])"
   ]
  },
  {
   "cell_type": "code",
   "execution_count": 28,
   "id": "2db0dc4a",
   "metadata": {},
   "outputs": [],
   "source": [
    "# Function menghapus outlier\n",
    "def remove_outlier(data):\n",
    "  q1 = data.quantile(0.25)\n",
    "  q3 = data.quantile(0.75)\n",
    "  iqr = q3 - q1\n",
    "  df_hasil = data[~((data < (q1-1.5*iqr)) | (data > (q3+1.5*iqr)))]\n",
    "  return df_hasil"
   ]
  },
  {
   "cell_type": "code",
   "execution_count": 29,
   "id": "fa844179",
   "metadata": {
    "scrolled": true
   },
   "outputs": [
    {
     "data": {
      "text/html": [
       "<div>\n",
       "<style scoped>\n",
       "    .dataframe tbody tr th:only-of-type {\n",
       "        vertical-align: middle;\n",
       "    }\n",
       "\n",
       "    .dataframe tbody tr th {\n",
       "        vertical-align: top;\n",
       "    }\n",
       "\n",
       "    .dataframe thead th {\n",
       "        text-align: right;\n",
       "    }\n",
       "</style>\n",
       "<table border=\"1\" class=\"dataframe\">\n",
       "  <thead>\n",
       "    <tr style=\"text-align: right;\">\n",
       "      <th></th>\n",
       "      <th>median_delay</th>\n",
       "      <th>median_length</th>\n",
       "      <th>median_speed_kmh</th>\n",
       "    </tr>\n",
       "  </thead>\n",
       "  <tbody>\n",
       "    <tr>\n",
       "      <th>0</th>\n",
       "      <td>176.0</td>\n",
       "      <td>585.0</td>\n",
       "      <td>10.260</td>\n",
       "    </tr>\n",
       "    <tr>\n",
       "      <th>1</th>\n",
       "      <td>78.0</td>\n",
       "      <td>1809.0</td>\n",
       "      <td>27.080</td>\n",
       "    </tr>\n",
       "    <tr>\n",
       "      <th>2</th>\n",
       "      <td>198.0</td>\n",
       "      <td>910.0</td>\n",
       "      <td>13.230</td>\n",
       "    </tr>\n",
       "    <tr>\n",
       "      <th>4</th>\n",
       "      <td>108.0</td>\n",
       "      <td>994.0</td>\n",
       "      <td>21.400</td>\n",
       "    </tr>\n",
       "    <tr>\n",
       "      <th>6</th>\n",
       "      <td>184.0</td>\n",
       "      <td>1724.0</td>\n",
       "      <td>23.265</td>\n",
       "    </tr>\n",
       "    <tr>\n",
       "      <th>...</th>\n",
       "      <td>...</td>\n",
       "      <td>...</td>\n",
       "      <td>...</td>\n",
       "    </tr>\n",
       "    <tr>\n",
       "      <th>240253</th>\n",
       "      <td>142.5</td>\n",
       "      <td>1317.5</td>\n",
       "      <td>23.450</td>\n",
       "    </tr>\n",
       "    <tr>\n",
       "      <th>240254</th>\n",
       "      <td>230.5</td>\n",
       "      <td>1497.0</td>\n",
       "      <td>15.775</td>\n",
       "    </tr>\n",
       "    <tr>\n",
       "      <th>240256</th>\n",
       "      <td>-1.0</td>\n",
       "      <td>33.0</td>\n",
       "      <td>0.000</td>\n",
       "    </tr>\n",
       "    <tr>\n",
       "      <th>240257</th>\n",
       "      <td>158.0</td>\n",
       "      <td>1680.5</td>\n",
       "      <td>25.945</td>\n",
       "    </tr>\n",
       "    <tr>\n",
       "      <th>240260</th>\n",
       "      <td>-1.0</td>\n",
       "      <td>11.0</td>\n",
       "      <td>0.000</td>\n",
       "    </tr>\n",
       "  </tbody>\n",
       "</table>\n",
       "<p>212328 rows × 3 columns</p>\n",
       "</div>"
      ],
      "text/plain": [
       "        median_delay  median_length  median_speed_kmh\n",
       "0              176.0          585.0            10.260\n",
       "1               78.0         1809.0            27.080\n",
       "2              198.0          910.0            13.230\n",
       "4              108.0          994.0            21.400\n",
       "6              184.0         1724.0            23.265\n",
       "...              ...            ...               ...\n",
       "240253         142.5         1317.5            23.450\n",
       "240254         230.5         1497.0            15.775\n",
       "240256          -1.0           33.0             0.000\n",
       "240257         158.0         1680.5            25.945\n",
       "240260          -1.0           11.0             0.000\n",
       "\n",
       "[212328 rows x 3 columns]"
      ]
     },
     "execution_count": 29,
     "metadata": {},
     "output_type": "execute_result"
    }
   ],
   "source": [
    "# menghapus outlier\n",
    "df_remove = remove_outlier(data[['median_delay', 'median_length', 'median_speed_kmh']])\n",
    "df_remove.dropna(axis=0, inplace=True)\n",
    "\n",
    "df_remove"
   ]
  },
  {
   "cell_type": "markdown",
   "id": "168496ba",
   "metadata": {},
   "source": [
    "# Modelling"
   ]
  },
  {
   "cell_type": "code",
   "execution_count": 30,
   "id": "4274a461",
   "metadata": {},
   "outputs": [],
   "source": [
    "X = data.loc[:, ['median_length', 'median_delay', 'median_speed_kmh']]\n",
    "y = data['level']"
   ]
  },
  {
   "cell_type": "code",
   "execution_count": 31,
   "id": "57fee660",
   "metadata": {},
   "outputs": [
    {
     "data": {
      "image/png": "[encoded data removed]",
      "text/plain": [
       "<Figure size 576x396 with 1 Axes>"
      ]
     },
     "metadata": {},
     "output_type": "display_data"
    },
    {
     "data": {
      "text/plain": [
       "<AxesSubplot:title={'center':'Class Balance for 240,261 Instances'}, ylabel='support'>"
      ]
     },
     "execution_count": 31,
     "metadata": {},
     "output_type": "execute_result"
    }
   ],
   "source": [
    "# cek proporsi proporsi persebaran level kemacetan\n",
    "from yellowbrick.target import ClassBalance\n",
    "check_proporsi = ClassBalance()\n",
    "check_proporsi.fit(y)\n",
    "check_proporsi.show()"
   ]
  },
  {
   "cell_type": "code",
   "execution_count": 32,
   "id": "e91ccf8b",
   "metadata": {},
   "outputs": [],
   "source": [
    "# Split dataset into train and test sets\n",
    "from sklearn.model_selection import train_test_split\n",
    "X_train, X_test, y_train, y_test = train_test_split(X, y, test_size=0.2, random_state=42)"
   ]
  },
  {
   "cell_type": "markdown",
   "id": "1dcd0325",
   "metadata": {},
   "source": [
    "Karena persebaran kolom target tidak balance dan dapat menyebabkan underfitting, maka dilakukan oversampling supaya persebaran kolom target menjadi balance."
   ]
  },
  {
   "cell_type": "code",
   "execution_count": 33,
   "id": "f3c45cc8",
   "metadata": {},
   "outputs": [],
   "source": [
    "# apply SMOTE oversampling to training data\n",
    "from imblearn.over_sampling import SMOTE\n",
    "sm = SMOTE(random_state=1)\n",
    "X_train_resampled, y_train_resampled = sm.fit_resample(X_train, y_train)"
   ]
  },
  {
   "cell_type": "code",
   "execution_count": 34,
   "id": "8e55dd7f",
   "metadata": {},
   "outputs": [
    {
     "data": {
      "image/png": "[encoded data removed]",
      "text/plain": [
       "<Figure size 576x396 with 1 Axes>"
      ]
     },
     "metadata": {},
     "output_type": "display_data"
    },
    {
     "data": {
      "text/plain": [
       "<AxesSubplot:title={'center':'Class Balance for 324,835 Instances'}, ylabel='support'>"
      ]
     },
     "execution_count": 34,
     "metadata": {},
     "output_type": "execute_result"
    }
   ],
   "source": [
    "# cek proporsi persebaran level kemacetan setelah dilakukan oversampling\n",
    "check_proporsi = ClassBalance()\n",
    "check_proporsi.fit(y_train_resampled)\n",
    "check_proporsi.show()"
   ]
  },
  {
   "cell_type": "code",
   "execution_count": 35,
   "id": "559ff514",
   "metadata": {},
   "outputs": [
    {
     "data": {
      "text/plain": [
       "RandomForestClassifier(random_state=42)"
      ]
     },
     "execution_count": 35,
     "metadata": {},
     "output_type": "execute_result"
    }
   ],
   "source": [
    "# Train the random forest classifier\n",
    "from sklearn.ensemble import RandomForestClassifier\n",
    "rfc = RandomForestClassifier(n_estimators=100, random_state=42)\n",
    "rfc.fit(X_train, y_train)"
   ]
  },
  {
   "cell_type": "code",
   "execution_count": 36,
   "id": "7a6e0e7e",
   "metadata": {},
   "outputs": [],
   "source": [
    "# Predict the test set labels\n",
    "y_pred_rfc = rfc.predict(X_test)"
   ]
  },
  {
   "cell_type": "code",
   "execution_count": 37,
   "id": "15a2df40",
   "metadata": {},
   "outputs": [
    {
     "data": {
      "text/plain": [
       "KNeighborsClassifier(n_neighbors=3)"
      ]
     },
     "execution_count": 37,
     "metadata": {},
     "output_type": "execute_result"
    }
   ],
   "source": [
    "# Train the KNN classifier\n",
    "from sklearn.neighbors import KNeighborsClassifier\n",
    "knn = KNeighborsClassifier(n_neighbors=3)\n",
    "knn.fit(X_train, y_train)"
   ]
  },
  {
   "cell_type": "code",
   "execution_count": 38,
   "id": "2170068d",
   "metadata": {},
   "outputs": [],
   "source": [
    "y_pred_knn = knn.predict(X_test)"
   ]
  },
  {
   "cell_type": "code",
   "execution_count": 39,
   "id": "2b9fbe47",
   "metadata": {},
   "outputs": [
    {
     "name": "stdout",
     "output_type": "stream",
     "text": [
      "[[ 7240  1209    24     6     0]\n",
      " [ 1397 13503  1121    20     0]\n",
      " [   54  1572 12068   840     0]\n",
      " [   11    70   986  6928     0]\n",
      " [    0     0     0     0  1004]]\n"
     ]
    }
   ],
   "source": [
    "from sklearn.metrics import confusion_matrix\n",
    "#RFC\n",
    "cm_rfc = confusion_matrix(y_test, y_pred_rfc)\n",
    "\n",
    "print(cm_rfc)"
   ]
  },
  {
   "cell_type": "code",
   "execution_count": 40,
   "id": "3320b2dc",
   "metadata": {},
   "outputs": [
    {
     "name": "stdout",
     "output_type": "stream",
     "text": [
      "[[ 6967  1481    29     2     0]\n",
      " [ 1616 12898  1483    44     0]\n",
      " [   86  1665 11507  1276     0]\n",
      " [   14    76  1300  6605     0]\n",
      " [    0     0     0     0  1004]]\n"
     ]
    }
   ],
   "source": [
    "#KNN\n",
    "cm_knn = confusion_matrix(y_test, y_pred_knn)\n",
    "print(cm_knn)"
   ]
  },
  {
   "cell_type": "code",
   "execution_count": 41,
   "id": "5992200c",
   "metadata": {},
   "outputs": [],
   "source": [
    "from sklearn.metrics import accuracy_score, precision_score, recall_score, f1_score\n",
    "\n",
    "accuracy_rfc = accuracy_score(y_test, y_pred_rfc)\n",
    "accuracy_knn = accuracy_score(y_test, y_pred_knn)\n",
    "\n",
    "precision_rfc = precision_score(y_test, y_pred_rfc,\n",
    "                                average='micro')\n",
    "precision_knn = precision_score(y_test, y_pred_knn,\n",
    "                                average='micro')\n",
    "\n",
    "recall_rfc = recall_score(y_test, y_pred_rfc,\n",
    "                          average='micro')\n",
    "recall_knn = recall_score(y_test, y_pred_knn,\n",
    "                          average='micro')\n",
    "\n",
    "f1_rfc = f1_score(y_test, y_pred_rfc,\n",
    "                  average='micro')\n",
    "f1_knn = f1_score(y_test, y_pred_knn,\n",
    "                  average='micro')"
   ]
  },
  {
   "cell_type": "markdown",
   "id": "8ae263c3",
   "metadata": {},
   "source": [
    "# Evaluasi Model"
   ]
  },
  {
   "cell_type": "markdown",
   "id": "c5d04fd1",
   "metadata": {},
   "source": [
    "Random Forest"
   ]
  },
  {
   "cell_type": "code",
   "execution_count": 42,
   "id": "467a2cf3",
   "metadata": {},
   "outputs": [
    {
     "name": "stdout",
     "output_type": "stream",
     "text": [
      "Accuracy RFC: 0.8478763032484965\n",
      "Precision RFC: 0.8478763032484965\n",
      "Recall RFC: 0.8478763032484965\n",
      "f1 RFC: 0.8478763032484966\n"
     ]
    }
   ],
   "source": [
    "print(\"Accuracy RFC:\", accuracy_rfc)\n",
    "print(\"Precision RFC:\", precision_rfc)\n",
    "print(\"Recall RFC:\", recall_rfc)\n",
    "print(\"f1 RFC:\", f1_rfc)"
   ]
  },
  {
   "cell_type": "markdown",
   "id": "6ff730df",
   "metadata": {},
   "source": [
    "KNN"
   ]
  },
  {
   "cell_type": "code",
   "execution_count": 43,
   "id": "e333018f",
   "metadata": {},
   "outputs": [
    {
     "name": "stdout",
     "output_type": "stream",
     "text": [
      "Accuracy KNN: 0.8112084573283666\n",
      "Precision KNN: 0.8112084573283666\n",
      "Recall KNN: 0.8112084573283666\n",
      "f1 RFC: 0.8112084573283666\n"
     ]
    }
   ],
   "source": [
    "print(\"Accuracy KNN:\", accuracy_knn)\n",
    "print(\"Precision KNN:\", precision_knn)\n",
    "print(\"Recall KNN:\", recall_knn)\n",
    "print(\"f1 RFC:\", f1_knn)"
   ]
  },
  {
   "cell_type": "markdown",
   "id": "7700dcca",
   "metadata": {},
   "source": [
    "# Kesimpulan\n",
    "\n",
    "Berdasarkan hasil modelling yang dilakukan, dapat disimpulkan bahwa hasil model dengan menggunakan algoritma Random Forest memiliki tingkat akurasi yang lebih tinggi dibandingkan dengan algoritma KNN dimana akurasi hasil model menggunakan algoritma Random FOrest sebesar 84% dan akurasi hasil model algoritma KNN sebesar 81%."
   ]
  }
 ],
 "metadata": {
  "kernelspec": {
   "display_name": "Python 3 (ipykernel)",
   "language": "python",
   "name": "python3"
  },
  "language_info": {
   "codemirror_mode": {
    "name": "ipython",
    "version": 3
   },
   "file_extension": ".py",
   "mimetype": "text/x-python",
   "name": "python",
   "nbconvert_exporter": "python",
   "pygments_lexer": "ipython3",
   "version": "3.9.12"
  }
 },
 "nbformat": 4,
 "nbformat_minor": 5
}
